{
 "cells": [
  {
   "cell_type": "code",
   "execution_count": 9,
   "metadata": {
    "collapsed": false
   },
   "outputs": [
    {
     "data": {
      "text/plain": [
       "'English_United States.1252'"
      ]
     },
     "execution_count": 9,
     "metadata": {},
     "output_type": "execute_result"
    }
   ],
   "source": [
    "import pandas as pd\n",
    "import numpy as np\n",
    "import locale\n",
    "locale.setlocale( locale.LC_ALL, '' )"
   ]
  },
  {
   "cell_type": "code",
   "execution_count": 10,
   "metadata": {
    "collapsed": true
   },
   "outputs": [],
   "source": [
    "\n",
    "distances = pd.read_csv('dist.csv')\n",
    "depos = pd.read_csv('depos.csv')\n",
    "repairs_costs = pd.read_csv('repairs_costs.csv')\n",
    "stations = pd.read_csv('stations.csv')\n",
    "vagons_repairs = pd.read_csv('vagons_repairs.csv')\n",
    "vagons_ways = pd.read_csv('vagons_ways.csv')\n",
    "\n",
    "all_data = [distances, depos, repairs_costs, stations, vagons_repairs, vagons_ways]\n",
    "table_names = \"distances, depos, repairs_costs, stations, vagons_repairs, vagons_ways\".split(\", \")"
   ]
  },
  {
   "cell_type": "code",
   "execution_count": null,
   "metadata": {
    "collapsed": false
   },
   "outputs": [],
   "source": []
  },
  {
   "cell_type": "code",
   "execution_count": null,
   "metadata": {
    "collapsed": true
   },
   "outputs": [],
   "source": []
  },
  {
   "cell_type": "code",
   "execution_count": null,
   "metadata": {
    "collapsed": true
   },
   "outputs": [],
   "source": []
  },
  {
   "cell_type": "code",
   "execution_count": null,
   "metadata": {
    "collapsed": true
   },
   "outputs": [],
   "source": []
  },
  {
   "cell_type": "code",
   "execution_count": 11,
   "metadata": {
    "collapsed": false
   },
   "outputs": [
    {
     "name": "stdout",
     "output_type": "stream",
     "text": [
      "                                             DISTANCES                                              \n",
      "\n",
      "   station_id      name  depo_id           depo_name  distance_to_depo\n",
      "0           1  Сосновка        1      Депо-Ленинское             10077\n",
      "1           1  Сосновка        2  Депо-Комсомольское             10436\n",
      "2           1  Сосновка        3     Депо-Молодежное             10522\n",
      "3           2   Липовка        1      Депо-Ленинское              2084\n",
      "4           2   Липовка        2  Депо-Комсомольское              3789\n",
      "\n",
      "\n",
      "                                               DEPOS                                                \n",
      "\n",
      "   id           depo_name\n",
      "0   1      Депо-Ленинское\n",
      "1   2  Депо-Комсомольское\n",
      "2   3     Депо-Молодежное\n",
      "\n",
      "\n",
      "                                           REPAIRS_COSTS                                            \n",
      "\n",
      "   id                                 repair_name  repair_cost\n",
      "0   1                          Капитальный ремонт     94000000\n",
      "1   2                            Деповской ремонт     19000000\n",
      "2   3           Плановый предупредительный ремонт     13000000\n",
      "3   4  Вакуумная очистка и гидроиспытания (ВОиГИ)     18000000\n",
      "\n",
      "\n",
      "                                              STATIONS                                              \n",
      "\n",
      "   id        name\n",
      "0   1    Сосновка\n",
      "1   2     Липовка\n",
      "2   3       Рожок\n",
      "3   4       Гатка\n",
      "4   5  Георгополь\n",
      "\n",
      "\n",
      "                                           VAGONS_REPAIRS                                           \n",
      "\n",
      "    car_num  ct_name psevdoname     std_kap     std_ppr     std_dep  \\\n",
      "0  57463085  Газовые    15-78-5  2021-08-08  2018-08-26  2019-08-31   \n",
      "1  57456220  Газовые    15-78-5  2021-08-02  2019-05-19  2019-09-15   \n",
      "2  57453656  Газовые    15-78-5  2021-07-19  2019-01-22  2019-07-07   \n",
      "3  57463507  Газовые    15-78-5  2021-07-19  2019-03-18  2018-06-02   \n",
      "4  57463309  Газовые    15-78-5  2021-06-20  2018-05-16  2019-01-09   \n",
      "\n",
      "     std_vogi  \n",
      "0  2019-05-19  \n",
      "1  2019-05-19  \n",
      "2  2019-05-18  \n",
      "3  2019-05-18  \n",
      "4  2019-04-24  \n",
      "\n",
      "\n",
      "                                            VAGONS_WAYS                                             \n",
      "\n",
      "    car_num        date  station_id\n",
      "0  57463085  2015-01-01           2\n",
      "1  57463085  2015-01-25           6\n",
      "2  57463085  2015-02-18           9\n",
      "3  57463085  2015-03-14           5\n",
      "4  57463085  2015-04-07           8\n",
      "\n",
      "\n"
     ]
    }
   ],
   "source": [
    "for i in range(len(table_names)):\n",
    "    print(table_names[i].center(100).upper(), end='\\n\\n')\n",
    "    print(all_data[i].head(), end='\\n\\n\\n')"
   ]
  },
  {
   "cell_type": "code",
   "execution_count": 12,
   "metadata": {
    "collapsed": true
   },
   "outputs": [],
   "source": [
    "TARIF = 1000 * 500"
   ]
  },
  {
   "cell_type": "code",
   "execution_count": 13,
   "metadata": {
    "collapsed": false
   },
   "outputs": [],
   "source": [
    "closest_depos = distances.loc[distances.groupby('name', as_index=False, sort=False)['distance_to_depo'].idxmin()]"
   ]
  },
  {
   "cell_type": "code",
   "execution_count": 14,
   "metadata": {
    "collapsed": false
   },
   "outputs": [
    {
     "data": {
      "text/html": [
       "<div>\n",
       "<table border=\"1\" class=\"dataframe\">\n",
       "  <thead>\n",
       "    <tr style=\"text-align: right;\">\n",
       "      <th></th>\n",
       "      <th>station_id</th>\n",
       "      <th>name</th>\n",
       "      <th>depo_id</th>\n",
       "      <th>depo_name</th>\n",
       "      <th>distance_to_depo</th>\n",
       "    </tr>\n",
       "  </thead>\n",
       "  <tbody>\n",
       "    <tr>\n",
       "      <th>0</th>\n",
       "      <td>1</td>\n",
       "      <td>Сосновка</td>\n",
       "      <td>1</td>\n",
       "      <td>Депо-Ленинское</td>\n",
       "      <td>10077</td>\n",
       "    </tr>\n",
       "    <tr>\n",
       "      <th>3</th>\n",
       "      <td>2</td>\n",
       "      <td>Липовка</td>\n",
       "      <td>1</td>\n",
       "      <td>Депо-Ленинское</td>\n",
       "      <td>2084</td>\n",
       "    </tr>\n",
       "    <tr>\n",
       "      <th>7</th>\n",
       "      <td>3</td>\n",
       "      <td>Рожок</td>\n",
       "      <td>2</td>\n",
       "      <td>Депо-Комсомольское</td>\n",
       "      <td>2341</td>\n",
       "    </tr>\n",
       "    <tr>\n",
       "      <th>11</th>\n",
       "      <td>4</td>\n",
       "      <td>Гатка</td>\n",
       "      <td>3</td>\n",
       "      <td>Депо-Молодежное</td>\n",
       "      <td>3029</td>\n",
       "    </tr>\n",
       "    <tr>\n",
       "      <th>14</th>\n",
       "      <td>5</td>\n",
       "      <td>Георгополь</td>\n",
       "      <td>3</td>\n",
       "      <td>Депо-Молодежное</td>\n",
       "      <td>3662</td>\n",
       "    </tr>\n",
       "    <tr>\n",
       "      <th>15</th>\n",
       "      <td>6</td>\n",
       "      <td>Приморск</td>\n",
       "      <td>1</td>\n",
       "      <td>Депо-Ленинское</td>\n",
       "      <td>2238</td>\n",
       "    </tr>\n",
       "    <tr>\n",
       "      <th>20</th>\n",
       "      <td>7</td>\n",
       "      <td>Милта</td>\n",
       "      <td>3</td>\n",
       "      <td>Депо-Молодежное</td>\n",
       "      <td>5698</td>\n",
       "    </tr>\n",
       "    <tr>\n",
       "      <th>21</th>\n",
       "      <td>8</td>\n",
       "      <td>Новорепное</td>\n",
       "      <td>1</td>\n",
       "      <td>Депо-Ленинское</td>\n",
       "      <td>4816</td>\n",
       "    </tr>\n",
       "    <tr>\n",
       "      <th>24</th>\n",
       "      <td>9</td>\n",
       "      <td>Ясная поляна</td>\n",
       "      <td>1</td>\n",
       "      <td>Депо-Ленинское</td>\n",
       "      <td>1779</td>\n",
       "    </tr>\n",
       "    <tr>\n",
       "      <th>29</th>\n",
       "      <td>10</td>\n",
       "      <td>Северный</td>\n",
       "      <td>3</td>\n",
       "      <td>Депо-Молодежное</td>\n",
       "      <td>1431</td>\n",
       "    </tr>\n",
       "  </tbody>\n",
       "</table>\n",
       "</div>"
      ],
      "text/plain": [
       "    station_id          name  depo_id           depo_name  distance_to_depo\n",
       "0            1      Сосновка        1      Депо-Ленинское             10077\n",
       "3            2       Липовка        1      Депо-Ленинское              2084\n",
       "7            3         Рожок        2  Депо-Комсомольское              2341\n",
       "11           4         Гатка        3     Депо-Молодежное              3029\n",
       "14           5    Георгополь        3     Депо-Молодежное              3662\n",
       "15           6      Приморск        1      Депо-Ленинское              2238\n",
       "20           7         Милта        3     Депо-Молодежное              5698\n",
       "21           8    Новорепное        1      Депо-Ленинское              4816\n",
       "24           9  Ясная поляна        1      Депо-Ленинское              1779\n",
       "29          10      Северный        3     Депо-Молодежное              1431"
      ]
     },
     "execution_count": 14,
     "metadata": {},
     "output_type": "execute_result"
    }
   ],
   "source": [
    "closest_depos.head(1000)"
   ]
  },
  {
   "cell_type": "code",
   "execution_count": 36,
   "metadata": {
    "collapsed": false
   },
   "outputs": [
    {
     "data": {
      "text/plain": [
       "[((9,), 1431),\n",
       " ((8,), 1779),\n",
       " ((1,), 2084),\n",
       " ((5,), 2238),\n",
       " ((2,), 2341),\n",
       " ((3,), 3029),\n",
       " ((4,), 3662),\n",
       " ((7,), 4816),\n",
       " ((6,), 5698),\n",
       " ((0,), 10077)]"
      ]
     },
     "execution_count": 36,
     "metadata": {},
     "output_type": "execute_result"
    }
   ],
   "source": [
    "#Оптимальное депо для каждого города\n",
    "array_of_closest_depos = np.array(closest_depos[\"distance_to_depo\"])\n",
    "sorted(np.ndenumerate(array_of_closest_depos), key = lambda x: x[1])\n",
    "[10,9,2,6,3,4,5,8,7,1]"
   ]
  },
  {
   "cell_type": "code",
   "execution_count": 16,
   "metadata": {
    "collapsed": false
   },
   "outputs": [],
   "source": [
    "# путевой лист\n",
    "wagon = 57463085\n",
    "ways = vagons_ways[vagons_ways['car_num'] == wagon]\n",
    "putevoi_list = np.array(ways['station_id'])"
   ]
  },
  {
   "cell_type": "code",
   "execution_count": 17,
   "metadata": {
    "collapsed": false
   },
   "outputs": [
    {
     "data": {
      "text/plain": [
       "array([9, 4, 9, 5], dtype=int64)"
      ]
     },
     "execution_count": 17,
     "metadata": {},
     "output_type": "execute_result"
    }
   ],
   "source": [
    "#Даты плановых ремонтов\n",
    "type_1 = vagons_repairs[vagons_repairs[\"car_num\"] == wagon][\"std_kap\"].iloc[0]\n",
    "type_2 = vagons_repairs[vagons_repairs[\"car_num\"] == wagon][\"std_ppr\"].iloc[0]\n",
    "type_3 = vagons_repairs[vagons_repairs[\"car_num\"] == wagon][\"std_dep\"].iloc[0]\n",
    "type_4 = vagons_repairs[vagons_repairs[\"car_num\"] == wagon][\"std_vogi\"].iloc[0]\n",
    "type_1, type_2, type_3, type_4\n",
    "\n",
    "planned_towns = []\n",
    "planned_towns_indicies = []\n",
    "\n",
    "date_for_type_1 = ways[ways[\"date\"] > type_1]\n",
    "id_planned_town = date_for_type_1.iloc[0].name -1\n",
    "planned_towns.append(ways.iloc[date_for_type_1.iloc[0].name -1][\"station_id\"])\n",
    "planned_towns_indicies.append(id_planned_town)\n",
    "\n",
    "date_for_type_1 = ways[ways[\"date\"] > type_2]\n",
    "id_planned_town = date_for_type_1.iloc[0].name -1\n",
    "planned_towns.append(ways.iloc[date_for_type_1.iloc[0].name -1][\"station_id\"])\n",
    "planned_towns_indicies.append(id_planned_town)\n",
    "\n",
    "date_for_type_1 = ways[ways[\"date\"] > type_3]\n",
    "id_planned_town = date_for_type_1.iloc[0].name -1\n",
    "planned_towns.append(ways.iloc[date_for_type_1.iloc[0].name -1][\"station_id\"])\n",
    "planned_towns_indicies.append(id_planned_town)\n",
    "\n",
    "date_for_type_1 = ways[ways[\"date\"] > type_4]\n",
    "id_planned_town = date_for_type_1.iloc[0].name -1\n",
    "planned_towns.append(ways.iloc[date_for_type_1.iloc[0].name -1][\"station_id\"])\n",
    "planned_towns_indicies.append(id_planned_town)\n",
    "\n",
    "planned_towns = np.array(planned_towns)\n",
    "planned_towns\n"
   ]
  },
  {
   "cell_type": "code",
   "execution_count": 18,
   "metadata": {
    "collapsed": true
   },
   "outputs": [],
   "source": [
    "def getRepairCostForType(x):\n",
    "    return np.ceil(closest_depos.iloc[x - 1]['distance_to_depo'] / 500) * TARIF\n"
   ]
  },
  {
   "cell_type": "code",
   "execution_count": 28,
   "metadata": {
    "collapsed": false
   },
   "outputs": [
    {
     "name": "stdout",
     "output_type": "stream",
     "text": [
      "[ 96000000.  22500000.  15000000.  22000000.]\n"
     ]
    },
    {
     "data": {
      "text/plain": [
       "167500000.0"
      ]
     },
     "execution_count": 28,
     "metadata": {},
     "output_type": "execute_result"
    }
   ],
   "source": [
    "# Стоимость планового ремонта\n",
    "planned_costs = np.copy(planned_towns)\n",
    "planned_costs = np.apply_along_axis(lambda x: np.ceil(closest_depos.iloc[x - 1]['distance_to_depo'] / 500) * TARIF, axis=0, arr=planned_costs)\n",
    "planned_costs +=  repairs_costs['repair_cost']\n",
    "print(planned_costs)\n",
    "planned_costs = planned_costs.sum()\n",
    "\n",
    "#Количество подготовок\n",
    "number_of_prepares = len(vagons_repairs[vagons_repairs[\"car_num\"] == wagon][[ 'std_kap', 'std_ppr', 'std_dep',\n",
    "'std_vogi']].iloc[0].unique())\n",
    "planned_costs += 3*1000*1000 * number_of_prepares\n",
    "planned_costs\n",
    "\n"
   ]
  },
  {
   "cell_type": "code",
   "execution_count": 20,
   "metadata": {
    "collapsed": false
   },
   "outputs": [],
   "source": [
    "# 4 в ложенных цiкла\n",
    "output_costs = [] # 10 000 values\n",
    "output_combinations = []\n",
    "for i in range(1, 11):\n",
    "    cost_type_1 = 0\n",
    "    optimal_station_1 = -1\n",
    "    planned_town_1 = planned_towns[0] # тип города, в котором будет запланированный ремонт поломки 1\n",
    "    id_planned_town_1 = planned_towns_indicies[0] # индекс города, в котором будет запланированный ремонт поломки 1\n",
    "    for station in range(id_planned_town_1, 0, -1):\n",
    "        if (putevoi_list[station] == i): # мы нашли город, в котором будем оптимально чинить поломку 1\n",
    "            cost_type_1 = getRepairCostForType(putevoi_list[station])\n",
    "            cost_type_1 += (id_planned_town_1 - station)*24*TARIF\n",
    "            cost_type_1 +=   repairs_costs['repair_cost'].iloc[0]\n",
    "            optimal_station_1 = station\n",
    "            break\n",
    "\n",
    "    \n",
    "    for j in range(1, 11):\n",
    "        cost_type_2 = 0\n",
    "        optimal_station_2 = -1\n",
    "        planned_town_2 = planned_towns[1] # тип города, в котором будет запланированный ремонт поломки 2\n",
    "        id_planned_town_2 = planned_towns_indicies[1] # индекс города, в котором будет запланированный ремонт поломки 2\n",
    "        for station in range(id_planned_town_2, 0, -1):\n",
    "            if (putevoi_list[station] == j): # мы нашли город, в котором будем оптимально чинить поломку 2\n",
    "                cost_type_2 = getRepairCostForType(putevoi_list[station])\n",
    "                cost_type_2 += (id_planned_town_2 - station)*24*TARIF\n",
    "                cost_type_2 +=   repairs_costs['repair_cost'].iloc[1]\n",
    "                optimal_station_2 = station\n",
    "                break\n",
    "        for k in range(1, 11):\n",
    "            cost_type_3 = 0\n",
    "            optimal_station_3 = -1\n",
    "            planned_town_3 = planned_towns[2] # тип города, в котором будет запланированный ремонт поломки 3\n",
    "            id_planned_town_3 = planned_towns_indicies[2] # индекс города, в котором будет запланированный ремонт поломки 3\n",
    "            for station in range(id_planned_town_3, 0, -1):\n",
    "                if (putevoi_list[station] == k): # мы нашли город, в котором будем оптимально чинить поломку 3\n",
    "                    cost_type_3 = getRepairCostForType(putevoi_list[station])\n",
    "                    cost_type_3 += (id_planned_town_3 - station)*24*TARIF\n",
    "                    cost_type_3 +=   repairs_costs['repair_cost'].iloc[2]\n",
    "                    optimal_station_3 = station\n",
    "                    break\n",
    "    \n",
    "            for m in range(1, 11):\n",
    "                cost_type_4 = 0\n",
    "                planned_town_4 = planned_towns[3] # тип города, в котором будет запланированный ремонт поломки 4\n",
    "                id_planned_town_4 = planned_towns_indicies[3] # индекс города, в котором будет запланированный ремонт поломки 4\n",
    "                for station in range(id_planned_town_4, 0, -1):\n",
    "                    if (putevoi_list[station] == m): # мы нашли город, в котором будем оптимально чинить поломку 4\n",
    "                        cost_type_4 = getRepairCostForType(putevoi_list[station])\n",
    "                        cost_type_4 += (id_planned_town_4 - station)*24*TARIF\n",
    "                        cost_type_4 +=   repairs_costs['repair_cost'].iloc[3]\n",
    "                        stations = [optimal_station_1, optimal_station_2, optimal_station_3, station]\n",
    "                        appendix  = 3*1000*1000*len(set(stations))\n",
    "                        output_costs.append(cost_type_1 + cost_type_2+cost_type_3+cost_type_4 + appendix)\n",
    "                        output_combinations.append(stations)\n",
    "                        break\n",
    "    "
   ]
  },
  {
   "cell_type": "code",
   "execution_count": 21,
   "metadata": {
    "collapsed": false
   },
   "outputs": [
    {
     "data": {
      "text/plain": [
       "8384"
      ]
     },
     "execution_count": 21,
     "metadata": {},
     "output_type": "execute_result"
    }
   ],
   "source": [
    "np.argmin(output_costs)"
   ]
  },
  {
   "cell_type": "code",
   "execution_count": 22,
   "metadata": {
    "collapsed": false
   },
   "outputs": [
    {
     "data": {
      "text/plain": [
       "'$0.00'"
      ]
     },
     "execution_count": 22,
     "metadata": {},
     "output_type": "execute_result"
    }
   ],
   "source": [
    "locale.currency(planned_costs - min(output_costs), grouping=True)"
   ]
  },
  {
   "cell_type": "code",
   "execution_count": 23,
   "metadata": {
    "collapsed": false
   },
   "outputs": [
    {
     "data": {
      "text/plain": [
       "[100, 55, 70, 66]"
      ]
     },
     "execution_count": 23,
     "metadata": {},
     "output_type": "execute_result"
    }
   ],
   "source": [
    "output_combinations[8384]"
   ]
  },
  {
   "cell_type": "code",
   "execution_count": 24,
   "metadata": {
    "collapsed": false
   },
   "outputs": [
    {
     "data": {
      "text/plain": [
       "[100, 55, 70, 66]"
      ]
     },
     "execution_count": 24,
     "metadata": {},
     "output_type": "execute_result"
    }
   ],
   "source": [
    "planned_towns_indicies"
   ]
  },
  {
   "cell_type": "code",
   "execution_count": 25,
   "metadata": {
    "collapsed": true
   },
   "outputs": [],
   "source": [
    "import matplotlib.pyplot as plt\n",
    "import numpy as np"
   ]
  },
  {
   "cell_type": "code",
   "execution_count": 27,
   "metadata": {
    "collapsed": false
   },
   "outputs": [
    {
     "data": {
      "image/png": "[encoded data removed]",
      "text/plain": [
       "<matplotlib.figure.Figure at 0x289dfb14080>"
      ]
     },
     "metadata": {},
     "output_type": "display_data"
    }
   ],
   "source": [
    "plt.plot(np.arange(0, 10000), output_costs)\n",
    "plt.show()"
   ]
  },
  {
   "cell_type": "code",
   "execution_count": null,
   "metadata": {
    "collapsed": true
   },
   "outputs": [],
   "source": []
  },
  {
   "cell_type": "code",
   "execution_count": null,
   "metadata": {
    "collapsed": true
   },
   "outputs": [],
   "source": []
  },
  {
   "cell_type": "code",
   "execution_count": null,
   "metadata": {
    "collapsed": true
   },
   "outputs": [],
   "source": []
  }
 ],
 "metadata": {
  "kernelspec": {
   "display_name": "Python 3",
   "language": "python",
   "name": "python3"
  },
  "language_info": {
   "codemirror_mode": {
    "name": "ipython",
    "version": 3
   },
   "file_extension": ".py",
   "mimetype": "text/x-python",
   "name": "python",
   "nbconvert_exporter": "python",
   "pygments_lexer": "ipython3",
   "version": "3.5.2"
  }
 },
 "nbformat": 4,
 "nbformat_minor": 1
}
