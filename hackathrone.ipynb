{
 "cells": [
  {
   "cell_type": "code",
   "execution_count": 19,
   "metadata": {
    "collapsed": true
   },
   "outputs": [],
   "source": [
    "import pandas as pd\n",
    "import numpy as np"
   ]
  },
  {
   "cell_type": "code",
   "execution_count": 20,
   "metadata": {
    "collapsed": true
   },
   "outputs": [],
   "source": [
    "\n",
    "distances = pd.read_csv('dist.csv')\n",
    "depos = pd.read_csv('depos.csv')\n",
    "repairs_costs = pd.read_csv('repairs_costs.csv')\n",
    "stations = pd.read_csv('stations.csv')\n",
    "vagons_repairs = pd.read_csv('vagons_repairs.csv')\n",
    "vagons_ways = pd.read_csv('vagons_ways.csv')\n",
    "\n",
    "all_data = [distances, depos, repairs_costs, stations, vagons_repairs, vagons_ways]\n",
    "table_names = \"distances, depos, repairs_costs, stations, vagons_repairs, vagons_ways\".split(\", \")"
   ]
  },
  {
   "cell_type": "code",
   "execution_count": null,
   "metadata": {
    "collapsed": false
   },
   "outputs": [],
   "source": []
  },
  {
   "cell_type": "code",
   "execution_count": null,
   "metadata": {
    "collapsed": true
   },
   "outputs": [],
   "source": []
  },
  {
   "cell_type": "code",
   "execution_count": null,
   "metadata": {
    "collapsed": true
   },
   "outputs": [],
   "source": []
  },
  {
   "cell_type": "code",
   "execution_count": null,
   "metadata": {
    "collapsed": true
   },
   "outputs": [],
   "source": []
  },
  {
   "cell_type": "code",
   "execution_count": 21,
   "metadata": {
    "collapsed": false
   },
   "outputs": [
    {
     "name": "stdout",
     "output_type": "stream",
     "text": [
      "                                             DISTANCES                                              \n",
      "\n",
      "   station_id      name  depo_id           depo_name  distance_to_depo\n",
      "0           1  Сосновка        1      Депо-Ленинское             10077\n",
      "1           1  Сосновка        2  Депо-Комсомольское             10436\n",
      "2           1  Сосновка        3     Депо-Молодежное             10522\n",
      "3           2   Липовка        1      Депо-Ленинское              2084\n",
      "4           2   Липовка        2  Депо-Комсомольское              3789\n",
      "\n",
      "\n",
      "                                               DEPOS                                                \n",
      "\n",
      "   id           depo_name\n",
      "0   1      Депо-Ленинское\n",
      "1   2  Депо-Комсомольское\n",
      "2   3     Депо-Молодежное\n",
      "\n",
      "\n",
      "                                           REPAIRS_COSTS                                            \n",
      "\n",
      "   id                                 repair_name  repair_cost\n",
      "0   1                          Капитальный ремонт     94000000\n",
      "1   2                            Деповской ремонт     19000000\n",
      "2   3           Плановый предупредительный ремонт     13000000\n",
      "3   4  Вакуумная очистка и гидроиспытания (ВОиГИ)     18000000\n",
      "\n",
      "\n",
      "                                              STATIONS                                              \n",
      "\n",
      "   id        name\n",
      "0   1    Сосновка\n",
      "1   2     Липовка\n",
      "2   3       Рожок\n",
      "3   4       Гатка\n",
      "4   5  Георгополь\n",
      "\n",
      "\n",
      "                                           VAGONS_REPAIRS                                           \n",
      "\n",
      "    car_num  ct_name psevdoname     std_kap     std_ppr     std_dep  \\\n",
      "0  57463085  Газовые    15-78-5  2021-08-08  2018-08-26  2019-08-31   \n",
      "1  57456220  Газовые    15-78-5  2021-08-02  2019-05-19  2019-09-15   \n",
      "2  57453656  Газовые    15-78-5  2021-07-19  2019-01-22  2019-07-07   \n",
      "3  57463507  Газовые    15-78-5  2021-07-19  2019-03-18  2018-06-02   \n",
      "4  57463309  Газовые    15-78-5  2021-06-20  2018-05-16  2019-01-09   \n",
      "\n",
      "     std_vogi  \n",
      "0  2019-05-19  \n",
      "1  2019-05-19  \n",
      "2  2019-05-18  \n",
      "3  2019-05-18  \n",
      "4  2019-04-24  \n",
      "\n",
      "\n",
      "                                            VAGONS_WAYS                                             \n",
      "\n",
      "    car_num        date  station_id\n",
      "0  57463085  2015-01-01           2\n",
      "1  57463085  2015-01-25           6\n",
      "2  57463085  2015-02-18           9\n",
      "3  57463085  2015-03-14           5\n",
      "4  57463085  2015-04-07           8\n",
      "\n",
      "\n"
     ]
    }
   ],
   "source": [
    "for i in range(len(table_names)):\n",
    "    print(table_names[i].center(100).upper(), end='\\n\\n')\n",
    "    print(all_data[i].head(), end='\\n\\n\\n')"
   ]
  },
  {
   "cell_type": "code",
   "execution_count": 22,
   "metadata": {
    "collapsed": false
   },
   "outputs": [],
   "source": [
    "closest_depos = distances.loc[distances.groupby('name', as_index=False, sort=False)['distance_to_depo'].idxmin()]"
   ]
  },
  {
   "cell_type": "code",
   "execution_count": 23,
   "metadata": {
    "collapsed": false
   },
   "outputs": [
    {
     "data": {
      "text/html": [
       "<div>\n",
       "<table border=\"1\" class=\"dataframe\">\n",
       "  <thead>\n",
       "    <tr style=\"text-align: right;\">\n",
       "      <th></th>\n",
       "      <th>station_id</th>\n",
       "      <th>name</th>\n",
       "      <th>depo_id</th>\n",
       "      <th>depo_name</th>\n",
       "      <th>distance_to_depo</th>\n",
       "    </tr>\n",
       "  </thead>\n",
       "  <tbody>\n",
       "    <tr>\n",
       "      <th>0</th>\n",
       "      <td>1</td>\n",
       "      <td>Сосновка</td>\n",
       "      <td>1</td>\n",
       "      <td>Депо-Ленинское</td>\n",
       "      <td>10077</td>\n",
       "    </tr>\n",
       "    <tr>\n",
       "      <th>3</th>\n",
       "      <td>2</td>\n",
       "      <td>Липовка</td>\n",
       "      <td>1</td>\n",
       "      <td>Депо-Ленинское</td>\n",
       "      <td>2084</td>\n",
       "    </tr>\n",
       "    <tr>\n",
       "      <th>7</th>\n",
       "      <td>3</td>\n",
       "      <td>Рожок</td>\n",
       "      <td>2</td>\n",
       "      <td>Депо-Комсомольское</td>\n",
       "      <td>2341</td>\n",
       "    </tr>\n",
       "    <tr>\n",
       "      <th>11</th>\n",
       "      <td>4</td>\n",
       "      <td>Гатка</td>\n",
       "      <td>3</td>\n",
       "      <td>Депо-Молодежное</td>\n",
       "      <td>3029</td>\n",
       "    </tr>\n",
       "    <tr>\n",
       "      <th>14</th>\n",
       "      <td>5</td>\n",
       "      <td>Георгополь</td>\n",
       "      <td>3</td>\n",
       "      <td>Депо-Молодежное</td>\n",
       "      <td>3662</td>\n",
       "    </tr>\n",
       "  </tbody>\n",
       "</table>\n",
       "</div>"
      ],
      "text/plain": [
       "    station_id        name  depo_id           depo_name  distance_to_depo\n",
       "0            1    Сосновка        1      Депо-Ленинское             10077\n",
       "3            2     Липовка        1      Депо-Ленинское              2084\n",
       "7            3       Рожок        2  Депо-Комсомольское              2341\n",
       "11           4       Гатка        3     Депо-Молодежное              3029\n",
       "14           5  Георгополь        3     Депо-Молодежное              3662"
      ]
     },
     "execution_count": 23,
     "metadata": {},
     "output_type": "execute_result"
    }
   ],
   "source": [
    "closest_depos.head()"
   ]
  },
  {
   "cell_type": "code",
   "execution_count": 24,
   "metadata": {
    "collapsed": false
   },
   "outputs": [
    {
     "data": {
      "text/plain": [
       "array([ 2,  6,  9,  5,  8,  2,  6,  9,  3,  6, 10,  3,  7, 10,  4,  8,  1,\n",
       "        4,  9,  2,  6, 10,  3,  7,  1,  4,  7,  1,  4,  8,  2,  5,  8,  4,\n",
       "        8,  1,  5,  8,  2,  6,  9,  2,  6, 10,  3,  7, 10,  3,  7,  3,  6,\n",
       "       10,  3,  7,  1,  4,  7,  1,  5,  8,  2,  5,  9,  2,  8,  1,  5,  9,\n",
       "        2,  6,  9,  2,  6, 10,  3,  7,  1,  4,  7,  2,  5,  9,  3,  6, 10,\n",
       "        3,  7, 10,  4,  7,  1,  5,  8,  1,  7,  1,  4,  8,  1,  5,  9,  2,\n",
       "        5,  9,  2,  6, 10,  3,  6,  2,  6,  9,  3,  6, 10,  4,  7, 10,  4,\n",
       "        8,  1,  5,  8,  2,  5,  1,  4,  8,  2,  5,  9,  2,  5,  9,  3,  6,\n",
       "       10,  3,  7, 10,  5,  8,  2,  6,  9,  3,  6, 10,  3,  7, 10,  4,  8,\n",
       "        1,  4, 10,  3,  7,  1,  4,  8,  2,  5,  8,  2,  5,  9,  3,  6,  9,\n",
       "        5,  9,  2,  6,  9,  3,  7, 10,  3,  7,  1,  4,  8,  1,  4,  8,  4,\n",
       "        7,  1,  4,  8,  2,  5,  8,  2,  6,  9,  3,  6, 10,  3,  8,  1,  5,\n",
       "        9,  2,  6,  9,  2,  6, 10,  3,  7,  1,  4,  7,  3,  6, 10,  4,  7,\n",
       "        1,  4,  8,  1,  5,  8,  2,  6], dtype=int64)"
      ]
     },
     "execution_count": 24,
     "metadata": {},
     "output_type": "execute_result"
    }
   ],
   "source": [
    "# стоимость по плану\n",
    "wagon = 57463085\n",
    "ways = vagons_ways[vagons_ways['car_num'] == 57463085]\n",
    "np.array(ways['station_id'])"
   ]
  },
  {
   "cell_type": "code",
   "execution_count": null,
   "metadata": {
    "collapsed": true
   },
   "outputs": [],
   "source": []
  }
 ],
 "metadata": {
  "kernelspec": {
   "display_name": "Python 3",
   "language": "python",
   "name": "python3"
  },
  "language_info": {
   "codemirror_mode": {
    "name": "ipython",
    "version": 3
   },
   "file_extension": ".py",
   "mimetype": "text/x-python",
   "name": "python",
   "nbconvert_exporter": "python",
   "pygments_lexer": "ipython3",
   "version": "3.5.2"
  }
 },
 "nbformat": 4,
 "nbformat_minor": 1
}
