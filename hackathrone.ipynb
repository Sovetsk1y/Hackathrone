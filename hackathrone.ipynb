{
 "cells": [
  {
   "cell_type": "code",
   "execution_count": 33,
   "metadata": {
    "collapsed": true
   },
   "outputs": [],
   "source": [
    "import pandas as pd\n"
   ]
  },
  {
   "cell_type": "code",
   "execution_count": null,
   "metadata": {
    "collapsed": true
   },
   "outputs": [],
   "source": [
    "\n",
    "distances = pd.read_csv('dist.csv')\n",
    "depos = pd.read_csv('depos.csv')\n",
    "repairs_costs = pd.read_csv('repairs_costs.csv')\n",
    "stations = pd.read_csv('stations.csv')\n",
    "vagons_repairs = pd.read_csv('vagons_repairs.csv')\n",
    "vagons_ways = pd.read_csv('vagons_ways.csv')\n",
    "\n",
    "all_data = []"
   ]
  },
  {
   "cell_type": "code",
   "execution_count": 10,
   "metadata": {
    "collapsed": false
   },
   "outputs": [],
   "source": []
  },
  {
   "cell_type": "code",
   "execution_count": 12,
   "metadata": {
    "collapsed": false
   },
   "outputs": [
    {
     "data": {
      "text/html": [
       "<div>\n",
       "<table border=\"1\" class=\"dataframe\">\n",
       "  <thead>\n",
       "    <tr style=\"text-align: right;\">\n",
       "      <th></th>\n",
       "      <th>station_id</th>\n",
       "      <th>name</th>\n",
       "      <th>depo_id</th>\n",
       "      <th>depo_name</th>\n",
       "      <th>distance_to_depo</th>\n",
       "    </tr>\n",
       "  </thead>\n",
       "  <tbody>\n",
       "    <tr>\n",
       "      <th>0</th>\n",
       "      <td>1</td>\n",
       "      <td>Сосновка</td>\n",
       "      <td>1</td>\n",
       "      <td>Депо-Ленинское</td>\n",
       "      <td>10077</td>\n",
       "    </tr>\n",
       "    <tr>\n",
       "      <th>1</th>\n",
       "      <td>1</td>\n",
       "      <td>Сосновка</td>\n",
       "      <td>2</td>\n",
       "      <td>Депо-Комсомольское</td>\n",
       "      <td>10436</td>\n",
       "    </tr>\n",
       "    <tr>\n",
       "      <th>2</th>\n",
       "      <td>1</td>\n",
       "      <td>Сосновка</td>\n",
       "      <td>3</td>\n",
       "      <td>Депо-Молодежное</td>\n",
       "      <td>10522</td>\n",
       "    </tr>\n",
       "    <tr>\n",
       "      <th>3</th>\n",
       "      <td>2</td>\n",
       "      <td>Липовка</td>\n",
       "      <td>1</td>\n",
       "      <td>Депо-Ленинское</td>\n",
       "      <td>2084</td>\n",
       "    </tr>\n",
       "    <tr>\n",
       "      <th>4</th>\n",
       "      <td>2</td>\n",
       "      <td>Липовка</td>\n",
       "      <td>2</td>\n",
       "      <td>Депо-Комсомольское</td>\n",
       "      <td>3789</td>\n",
       "    </tr>\n",
       "  </tbody>\n",
       "</table>\n",
       "</div>"
      ],
      "text/plain": [
       "   station_id      name  depo_id           depo_name  distance_to_depo\n",
       "0           1  Сосновка        1      Депо-Ленинское             10077\n",
       "1           1  Сосновка        2  Депо-Комсомольское             10436\n",
       "2           1  Сосновка        3     Депо-Молодежное             10522\n",
       "3           2   Липовка        1      Депо-Ленинское              2084\n",
       "4           2   Липовка        2  Депо-Комсомольское              3789"
      ]
     },
     "execution_count": 12,
     "metadata": {},
     "output_type": "execute_result"
    }
   ],
   "source": [
    "distances.head()"
   ]
  },
  {
   "cell_type": "code",
   "execution_count": 14,
   "metadata": {
    "collapsed": false
   },
   "outputs": [
    {
     "data": {
      "text/html": [
       "<div>\n",
       "<table border=\"1\" class=\"dataframe\">\n",
       "  <thead>\n",
       "    <tr style=\"text-align: right;\">\n",
       "      <th></th>\n",
       "      <th>id</th>\n",
       "      <th>depo_name</th>\n",
       "    </tr>\n",
       "  </thead>\n",
       "  <tbody>\n",
       "    <tr>\n",
       "      <th>0</th>\n",
       "      <td>1</td>\n",
       "      <td>Депо-Ленинское</td>\n",
       "    </tr>\n",
       "    <tr>\n",
       "      <th>1</th>\n",
       "      <td>2</td>\n",
       "      <td>Депо-Комсомольское</td>\n",
       "    </tr>\n",
       "    <tr>\n",
       "      <th>2</th>\n",
       "      <td>3</td>\n",
       "      <td>Депо-Молодежное</td>\n",
       "    </tr>\n",
       "  </tbody>\n",
       "</table>\n",
       "</div>"
      ],
      "text/plain": [
       "   id           depo_name\n",
       "0   1      Депо-Ленинское\n",
       "1   2  Депо-Комсомольское\n",
       "2   3     Депо-Молодежное"
      ]
     },
     "execution_count": 14,
     "metadata": {},
     "output_type": "execute_result"
    }
   ],
   "source": [
    "\n",
    "depos.head()"
   ]
  },
  {
   "cell_type": "code",
   "execution_count": 31,
   "metadata": {
    "collapsed": false
   },
   "outputs": [
    {
     "data": {
      "text/html": [
       "<div>\n",
       "<table border=\"1\" class=\"dataframe\">\n",
       "  <thead>\n",
       "    <tr style=\"text-align: right;\">\n",
       "      <th></th>\n",
       "      <th>car_num</th>\n",
       "      <th>ct_name</th>\n",
       "      <th>psevdoname</th>\n",
       "      <th>std_kap</th>\n",
       "      <th>std_ppr</th>\n",
       "      <th>std_dep</th>\n",
       "      <th>std_vogi</th>\n",
       "    </tr>\n",
       "  </thead>\n",
       "  <tbody>\n",
       "    <tr>\n",
       "      <th>0</th>\n",
       "      <td>57463085</td>\n",
       "      <td>Газовые</td>\n",
       "      <td>15-78-5</td>\n",
       "      <td>2021-08-08</td>\n",
       "      <td>2018-08-26</td>\n",
       "      <td>2019-08-31</td>\n",
       "      <td>2019-05-19</td>\n",
       "    </tr>\n",
       "    <tr>\n",
       "      <th>1</th>\n",
       "      <td>57456220</td>\n",
       "      <td>Газовые</td>\n",
       "      <td>15-78-5</td>\n",
       "      <td>2021-08-02</td>\n",
       "      <td>2019-05-19</td>\n",
       "      <td>2019-09-15</td>\n",
       "      <td>2019-05-19</td>\n",
       "    </tr>\n",
       "    <tr>\n",
       "      <th>2</th>\n",
       "      <td>57453656</td>\n",
       "      <td>Газовые</td>\n",
       "      <td>15-78-5</td>\n",
       "      <td>2021-07-19</td>\n",
       "      <td>2019-01-22</td>\n",
       "      <td>2019-07-07</td>\n",
       "      <td>2019-05-18</td>\n",
       "    </tr>\n",
       "    <tr>\n",
       "      <th>3</th>\n",
       "      <td>57463507</td>\n",
       "      <td>Газовые</td>\n",
       "      <td>15-78-5</td>\n",
       "      <td>2021-07-19</td>\n",
       "      <td>2019-03-18</td>\n",
       "      <td>2018-06-02</td>\n",
       "      <td>2019-05-18</td>\n",
       "    </tr>\n",
       "    <tr>\n",
       "      <th>4</th>\n",
       "      <td>57463309</td>\n",
       "      <td>Газовые</td>\n",
       "      <td>15-78-5</td>\n",
       "      <td>2021-06-20</td>\n",
       "      <td>2018-05-16</td>\n",
       "      <td>2019-01-09</td>\n",
       "      <td>2019-04-24</td>\n",
       "    </tr>\n",
       "  </tbody>\n",
       "</table>\n",
       "</div>"
      ],
      "text/plain": [
       "    car_num  ct_name psevdoname     std_kap     std_ppr     std_dep  \\\n",
       "0  57463085  Газовые    15-78-5  2021-08-08  2018-08-26  2019-08-31   \n",
       "1  57456220  Газовые    15-78-5  2021-08-02  2019-05-19  2019-09-15   \n",
       "2  57453656  Газовые    15-78-5  2021-07-19  2019-01-22  2019-07-07   \n",
       "3  57463507  Газовые    15-78-5  2021-07-19  2019-03-18  2018-06-02   \n",
       "4  57463309  Газовые    15-78-5  2021-06-20  2018-05-16  2019-01-09   \n",
       "\n",
       "     std_vogi  \n",
       "0  2019-05-19  \n",
       "1  2019-05-19  \n",
       "2  2019-05-18  \n",
       "3  2019-05-18  \n",
       "4  2019-04-24  "
      ]
     },
     "execution_count": 31,
     "metadata": {},
     "output_type": "execute_result"
    }
   ],
   "source": [
    "\n",
    "vagons_repairs.head()\n",
    "\n",
    "\n",
    "\n",
    "\n",
    "00m\n",
    "\n",
    "\n",
    "\n"
   ]
  },
  {
   "cell_type": "code",
   "execution_count": 32,
   "metadata": {
    "collapsed": false
   },
   "outputs": [
    {
     "data": {
      "text/html": [
       "<div>\n",
       "<table border=\"1\" class=\"dataframe\">\n",
       "  <thead>\n",
       "    <tr style=\"text-align: right;\">\n",
       "      <th></th>\n",
       "      <th>car_num</th>\n",
       "      <th>date</th>\n",
       "      <th>station_id</th>\n",
       "    </tr>\n",
       "  </thead>\n",
       "  <tbody>\n",
       "    <tr>\n",
       "      <th>0</th>\n",
       "      <td>57463085</td>\n",
       "      <td>2015-01-01</td>\n",
       "      <td>2</td>\n",
       "    </tr>\n",
       "    <tr>\n",
       "      <th>1</th>\n",
       "      <td>57463085</td>\n",
       "      <td>2015-01-25</td>\n",
       "      <td>6</td>\n",
       "    </tr>\n",
       "    <tr>\n",
       "      <th>2</th>\n",
       "      <td>57463085</td>\n",
       "      <td>2015-02-18</td>\n",
       "      <td>9</td>\n",
       "    </tr>\n",
       "    <tr>\n",
       "      <th>3</th>\n",
       "      <td>57463085</td>\n",
       "      <td>2015-03-14</td>\n",
       "      <td>5</td>\n",
       "    </tr>\n",
       "    <tr>\n",
       "      <th>4</th>\n",
       "      <td>57463085</td>\n",
       "      <td>2015-04-07</td>\n",
       "      <td>8</td>\n",
       "    </tr>\n",
       "  </tbody>\n",
       "</table>\n",
       "</div>"
      ],
      "text/plain": [
       "    car_num        date  station_id\n",
       "0  57463085  2015-01-01           2\n",
       "1  57463085  2015-01-25           6\n",
       "2  57463085  2015-02-18           9\n",
       "3  57463085  2015-03-14           5\n",
       "4  57463085  2015-04-07           8"
      ]
     },
     "execution_count": 32,
     "metadata": {},
     "output_type": "execute_result"
    }
   ],
   "source": [
    "\n",
    "vagons_ways.head()"
   ]
  },
  {
   "cell_type": "code",
   "execution_count": null,
   "metadata": {
    "collapsed": true
   },
   "outputs": [],
   "source": []
  },
  {
   "cell_type": "code",
   "execution_count": null,
   "metadata": {
    "collapsed": true
   },
   "outputs": [],
   "source": []
  },
  {
   "cell_type": "code",
   "execution_count": null,
   "metadata": {
    "collapsed": true
   },
   "outputs": [],
   "source": []
  },
  {
   "cell_type": "code",
   "execution_count": 25,
   "metadata": {
    "collapsed": false
   },
   "outputs": [
    {
     "data": {
      "text/html": [
       "<div>\n",
       "<table border=\"1\" class=\"dataframe\">\n",
       "  <thead>\n",
       "    <tr style=\"text-align: right;\">\n",
       "      <th></th>\n",
       "      <th>car_num</th>\n",
       "      <th>ct_name</th>\n",
       "      <th>psevdoname</th>\n",
       "      <th>std_kap</th>\n",
       "      <th>std_ppr</th>\n",
       "      <th>std_dep</th>\n",
       "      <th>std_vogi</th>\n",
       "    </tr>\n",
       "  </thead>\n",
       "  <tbody>\n",
       "    <tr>\n",
       "      <th>194</th>\n",
       "      <td>57751372</td>\n",
       "      <td>Газовые</td>\n",
       "      <td>11-160-9</td>\n",
       "      <td>2020-03-26</td>\n",
       "      <td>2018-03-17</td>\n",
       "      <td>2018-05-25</td>\n",
       "      <td>2018-03-17</td>\n",
       "    </tr>\n",
       "  </tbody>\n",
       "</table>\n",
       "</div>"
      ],
      "text/plain": [
       "      car_num  ct_name psevdoname     std_kap     std_ppr     std_dep  \\\n",
       "194  57751372  Газовые   11-160-9  2020-03-26  2018-03-17  2018-05-25   \n",
       "\n",
       "       std_vogi  \n",
       "194  2018-03-17  "
      ]
     },
     "execution_count": 25,
     "metadata": {},
     "output_type": "execute_result"
    }
   ],
   "source": [
    "vagons_repairs[vagons_repairs['car_num'] == 57751372]"
   ]
  }
 ],
 "metadata": {
  "kernelspec": {
   "display_name": "Python 3",
   "language": "python",
   "name": "python3"
  },
  "language_info": {
   "codemirror_mode": {
    "name": "ipython",
    "version": 3
   },
   "file_extension": ".py",
   "mimetype": "text/x-python",
   "name": "python",
   "nbconvert_exporter": "python",
   "pygments_lexer": "ipython3",
   "version": "3.5.2"
  }
 },
 "nbformat": 4,
 "nbformat_minor": 1
}
